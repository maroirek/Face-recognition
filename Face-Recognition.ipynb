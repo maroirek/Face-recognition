{
 "cells": [
  {
   "cell_type": "markdown",
   "metadata": {},
   "source": [
    "This part is a machine learning algorithm to recognise faces that figure in the training data"
   ]
  },
  {
   "cell_type": "code",
   "execution_count": 5,
   "metadata": {},
   "outputs": [],
   "source": [
    "import os   # to create a training data set from images we have\n"
   ]
  },
  {
   "cell_type": "code",
   "execution_count": 6,
   "metadata": {},
   "outputs": [],
   "source": [
    "Face_recognition_base= os.path.dirname(os.path.abspath('Face-Recognition.ipynb')) # define the path to our base\n",
    "Face_recognition_images = os.path.join(Face_recognition_base,\"Images\")"
   ]
  },
  {
   "cell_type": "code",
   "execution_count": 11,
   "metadata": {},
   "outputs": [],
   "source": [
    "# Create the training dataset\n",
    "\n",
    "for root, dirs, images in os.walk(Face_recognition_images):\n",
    "    for image in images :\n",
    "        if image.endswith('png') or image.endswith('jpg') :\n",
    "            path= os.path.join(root, image)\n",
    "            label = os.path.basename(os.path.dirname(path))  # get labels that are the names of the directories\n",
    "            # label = os.path.basename(root) // same as the previous line\n",
    "# we need to make sure that each directory represents a label and it is an attached name (no spaces in it)\n",
    "            \n",
    " \n",
    "           "
   ]
  }
 ],
 "metadata": {
  "kernelspec": {
   "display_name": "Python 3.9.12 ('base')",
   "language": "python",
   "name": "python3"
  },
  "language_info": {
   "codemirror_mode": {
    "name": "ipython",
    "version": 3
   },
   "file_extension": ".py",
   "mimetype": "text/x-python",
   "name": "python",
   "nbconvert_exporter": "python",
   "pygments_lexer": "ipython3",
   "version": "3.9.12"
  },
  "orig_nbformat": 4,
  "vscode": {
   "interpreter": {
    "hash": "9465493d991c10192be70692998c1f839aa44a98ea441dac77f59407aba251ff"
   }
  }
 },
 "nbformat": 4,
 "nbformat_minor": 2
}
