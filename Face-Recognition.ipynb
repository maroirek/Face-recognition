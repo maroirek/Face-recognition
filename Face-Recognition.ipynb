{
 "cells": [
  {
   "cell_type": "markdown",
   "metadata": {},
   "source": [
    "This part is a machine learning algorithm to recognise faces that figure in the training data (images)"
   ]
  },
  {
   "cell_type": "code",
   "execution_count": 10,
   "metadata": {},
   "outputs": [],
   "source": [
    "import os   # provides functions to interact with the operating system\n",
    "import numpy as np\n",
    "from PIL import Image \n",
    "import cv2 as cv \n",
    "import time "
   ]
  },
  {
   "cell_type": "markdown",
   "metadata": {},
   "source": [
    "1- Loading images that will be used as dataset "
   ]
  },
  {
   "cell_type": "code",
   "execution_count": 11,
   "metadata": {},
   "outputs": [],
   "source": [
    "Face_recognition_base= os.path.dirname(os.path.abspath('Face-Recognition.ipynb')) # define the path to our base\n",
    "Face_recognition_images = os.path.join(Face_recognition_base,\"Images\")"
   ]
  },
  {
   "cell_type": "markdown",
   "metadata": {},
   "source": [
    "2- Create the training dataset"
   ]
  },
  {
   "cell_type": "code",
   "execution_count": 15,
   "metadata": {},
   "outputs": [
    {
     "name": "stdout",
     "output_type": "stream",
     "text": [
      "{'emilia-clarke': 0, 'fun': 1, 'justin': 2, 'kit-harington': 3, 'logo': 4, 'nikolaj-coster-waldau': 5, 'peter-dinklage': 6}\n"
     ]
    }
   ],
   "source": [
    "labels=[]\n",
    "x_train=[]\n",
    "y_labels=[]\n",
    "id=0\n",
    "face_casc = cv.CascadeClassifier('cascades/haarcascade_frontalface_alt2.xml') # Algorithm of face detection (Haar Cascade)\n",
    "\n",
    "for root, dirs, images in os.walk(Face_recognition_images):\n",
    "    for image in images :\n",
    "        if image.endswith('png') or image.endswith('jpg') :\n",
    "            path= os.path.join(root, image)\n",
    "            label = os.path.basename(os.path.dirname(path)) # get labels that are the names of the directories\n",
    "            # label = os.path.basename(root) // same as the previous line\n",
    "            # Note : we need to make sure that each directory represents a label and it is an attached name (no spaces in it)\n",
    "     \n",
    "# Creation of the dictionnary containing faces labels and their identifiers (labels should be numbers not str)       \n",
    "            if not (label in labels) :\n",
    "                labels.append(label)\n",
    "            label_id = {labels[i]: list(range(len(labels)))[i] for i in range(len(labels))}\n",
    "              \n",
    "                                           \n",
    "# we will convert our images into arrays: \n",
    "            pil_im=Image.open(path).convert('L') # convert into grayscale cuz we need it in gray scale\n",
    "            np_im=np.array(pil_im, dtype='uint8')  # uint8 variable format for \n",
    "            faces= face_casc.detectMultiScale(np_im, scaleFactor=1.5, minNeighbors=5) \n",
    "            # the classifier accepts only np arrays, cv2 manipulates images as arrays not like pillow, so we don't need to convert\n",
    "            for(x,y,w,h) in faces : \n",
    "                x_train.append(np_im[y:y+h,x:x+h])\n",
    "                y_labels.append(label_id[label])\n",
    "                \n",
    "                \n",
    "           "
   ]
  }
 ],
 "metadata": {
  "kernelspec": {
   "display_name": "Python 3.9.12 ('base')",
   "language": "python",
   "name": "python3"
  },
  "language_info": {
   "codemirror_mode": {
    "name": "ipython",
    "version": 3
   },
   "file_extension": ".py",
   "mimetype": "text/x-python",
   "name": "python",
   "nbconvert_exporter": "python",
   "pygments_lexer": "ipython3",
   "version": "3.9.12"
  },
  "orig_nbformat": 4,
  "vscode": {
   "interpreter": {
    "hash": "9465493d991c10192be70692998c1f839aa44a98ea441dac77f59407aba251ff"
   }
  }
 },
 "nbformat": 4,
 "nbformat_minor": 2
}
